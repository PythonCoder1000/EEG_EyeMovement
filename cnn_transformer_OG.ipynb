{
  "nbformat": 4,
  "nbformat_minor": 0,
  "metadata": {
    "colab": {
      "provenance": [],
      "machine_shape": "hm",
      "gpuType": "A100"
    },
    "kernelspec": {
      "name": "python3",
      "display_name": "Python 3"
    },
    "language_info": {
      "name": "python"
    },
    "accelerator": "GPU"
  },
  "cells": [
    {
      "cell_type": "code",
      "source": [
        "# --- Install dependencies (Colab) ---\n",
        "!pip install -q torch torchvision torchaudio scikit-learn matplotlib"
      ],
      "metadata": {
        "id": "xiIhXcE-8pty"
      },
      "execution_count": 3,
      "outputs": []
    },
    {
      "cell_type": "code",
      "source": [
        "# --- Imports ---\n",
        "import torch\n",
        "import torch.nn as nn\n",
        "import torch.nn.functional as F\n",
        "import torch.optim as optim\n",
        "from torch.utils.data import DataLoader, Dataset\n",
        "from google.colab import drive\n",
        "from sklearn.metrics import mean_squared_error\n",
        "import numpy as np\n",
        "import math\n",
        "import os\n",
        "from tqdm import tqdm\n",
        "import matplotlib.pyplot as plt\n",
        "\n",
        "# --- Mount Google Drive ---\n",
        "drive.mount('/content/drive')"
      ],
      "metadata": {
        "id": "zYhSHX5s8pri",
        "colab": {
          "base_uri": "https://localhost:8080/"
        },
        "outputId": "78ed29af-f691-4c4a-a1a7-f48b29097c55"
      },
      "execution_count": 4,
      "outputs": [
        {
          "output_type": "stream",
          "name": "stdout",
          "text": [
            "Mounted at /content/drive\n"
          ]
        }
      ]
    },
    {
      "cell_type": "code",
      "source": [
        "# --- Positional Encoding ---\n",
        "class PositionalEncoding(nn.Module):\n",
        "    def __init__(self, d_model, max_len=1200):\n",
        "        super().__init__()\n",
        "        pe = torch.zeros(max_len, d_model)\n",
        "        position = torch.arange(0, max_len).unsqueeze(1)\n",
        "        div_term = torch.exp(torch.arange(0, d_model, 2) * -(math.log(10000.0) / d_model))\n",
        "        pe[:, 0::2] = torch.sin(position * div_term)\n",
        "        pe[:, 1::2] = torch.cos(position * div_term)\n",
        "        pe = pe.unsqueeze(0)\n",
        "        self.register_buffer('pe', pe)\n",
        "\n",
        "    def forward(self, x):\n",
        "        x = x + self.pe[:, :x.size(1)]\n",
        "        return x"
      ],
      "metadata": {
        "id": "qHxmiDLf8ppE"
      },
      "execution_count": 5,
      "outputs": []
    },
    {
      "cell_type": "code",
      "source": [
        "# --- Patch Embedding via Conv ---\n",
        "class PatchEmbedding(nn.Module):\n",
        "    def __init__(self, in_channels=1, emb_size=128):\n",
        "        super().__init__()\n",
        "        self.proj = nn.Sequential(\n",
        "            nn.Conv2d(in_channels, 32, kernel_size=3, stride=2, padding=1),\n",
        "            nn.GELU(),\n",
        "            nn.Conv2d(32, 64, kernel_size=3, stride=2, padding=1),\n",
        "            nn.GELU(),\n",
        "            nn.Conv2d(64, emb_size, kernel_size=3, stride=2, padding=1),\n",
        "            nn.GELU()\n",
        "        )\n",
        "\n",
        "    def forward(self, x):\n",
        "        x = x.unsqueeze(1)  # (B, 1, T, C)\n",
        "        x = self.proj(x)    # (B, emb_size, H, W)\n",
        "        B, E, H, W = x.shape\n",
        "        x = x.flatten(2).transpose(1, 2)  # (B, N_patches, emb_size)\n",
        "        return x"
      ],
      "metadata": {
        "id": "SXxazQKs8pmI"
      },
      "execution_count": 6,
      "outputs": []
    },
    {
      "cell_type": "code",
      "source": [
        "# --- Transformer Encoder Block ---\n",
        "class TransformerBlock(nn.Module):\n",
        "    def __init__(self, emb_size=256, heads=4, ff_dim=512, dropout=0.2):\n",
        "        super().__init__()\n",
        "        self.attn = nn.MultiheadAttention(emb_size, heads, dropout=dropout, batch_first=True)\n",
        "        self.ff = nn.Sequential(\n",
        "            nn.Linear(emb_size, ff_dim),\n",
        "            nn.GELU(),\n",
        "            nn.Linear(ff_dim, emb_size)\n",
        "        )\n",
        "        self.norm1 = nn.LayerNorm(emb_size)\n",
        "        self.norm2 = nn.LayerNorm(emb_size)\n",
        "        self.drop = nn.Dropout(dropout)\n",
        "\n",
        "    def forward(self, x):\n",
        "        attn_out, _ = self.attn(x, x, x)\n",
        "        x = self.norm1(x + self.drop(attn_out))\n",
        "        ff_out = self.ff(x)\n",
        "        x = self.norm2(x + self.drop(ff_out))\n",
        "        return x"
      ],
      "metadata": {
        "id": "HlUS8We48pjN"
      },
      "execution_count": 7,
      "outputs": []
    },
    {
      "cell_type": "code",
      "source": [
        "# --- Full Model ---\n",
        "class EEGTransformerRegressor(nn.Module):\n",
        "    def __init__(self, emb_size=256, num_layers=4):\n",
        "        super().__init__()\n",
        "        self.patch_embed = PatchEmbedding(1, emb_size)\n",
        "        self.pos_encoder = PositionalEncoding(emb_size)\n",
        "        self.transformer = nn.Sequential(*[\n",
        "            TransformerBlock(emb_size) for _ in range(num_layers)\n",
        "        ])\n",
        "        self.regressor = nn.Sequential(\n",
        "            nn.LayerNorm(emb_size, eps=1e-5),\n",
        "            nn.Linear(emb_size, 64),\n",
        "            nn.GELU(),\n",
        "            nn.Linear(64, 2)\n",
        "        )\n",
        "\n",
        "    def forward(self, x):\n",
        "        x = self.patch_embed(x)\n",
        "        x = self.pos_encoder(x)\n",
        "        x = self.transformer(x)\n",
        "        x = x.mean(dim=1)\n",
        "        return self.regressor(x)"
      ],
      "metadata": {
        "id": "G9U3ymZ482PO"
      },
      "execution_count": 8,
      "outputs": []
    },
    {
      "cell_type": "code",
      "source": [
        "class EEGNPZDataset(Dataset):\n",
        "    def __init__(self, file_paths, use_fraction=0.75):\n",
        "        self.samples = []\n",
        "        for path in file_paths:\n",
        "            data = np.load(path)\n",
        "            eeg = data['EEG']\n",
        "            labels = data['labels'][:, -2:]\n",
        "\n",
        "            N = int(len(eeg) * use_fraction)\n",
        "            self.samples.extend(zip(eeg[:N], labels[:N]))\n",
        "\n",
        "    def __len__(self):\n",
        "        return len(self.samples)\n",
        "\n",
        "    def __getitem__(self, idx):\n",
        "        x, y = self.samples[idx]\n",
        "        if np.isnan(x).any() or np.isnan(y).any():\n",
        "            x = np.nan_to_num(x, nan=0.0)\n",
        "            y = np.nan_to_num(y, nan=0.0)\n",
        "        x = (x - np.mean(x)) / (np.std(x) + 1e-6)\n",
        "        return torch.tensor(x, dtype=torch.float32), torch.tensor(y, dtype=torch.float32)"
      ],
      "metadata": {
        "id": "kP4FVU7_82M9"
      },
      "execution_count": 9,
      "outputs": []
    },
    {
      "cell_type": "code",
      "source": [
        "def find_nan_outputs(model, file_paths, device):\n",
        "    model.eval()\n",
        "    model.to(device)\n",
        "\n",
        "    bad_samples = []  # (file_path, sample_index)\n",
        "\n",
        "    for path in file_paths:\n",
        "        print(f\"Checking file: {path}\")\n",
        "        data = np.load(path)\n",
        "        eeg = data['EEG']\n",
        "        for i in range(len(eeg)):\n",
        "            x = eeg[i]\n",
        "            x = (x - np.mean(x)) / (np.std(x) + 1e-6)  # normalize\n",
        "            x_tensor = torch.tensor(x, dtype=torch.float32).unsqueeze(0).to(device)  # shape: (1, 500, 129)\n",
        "\n",
        "            try:\n",
        "                with torch.no_grad(), torch.amp.autocast('cuda'):\n",
        "                    output = model(x_tensor)\n",
        "                if torch.isnan(output).any():\n",
        "                    print(f\"NaN in output from file {path} index {i}\")\n",
        "                    bad_samples.append((path, i))\n",
        "            except Exception as e:\n",
        "                print(f\"Error on file {path} index {i}: {e}\")\n",
        "                bad_samples.append((path, i))\n",
        "\n",
        "    return bad_samples"
      ],
      "metadata": {
        "id": "6t-dJYZ4SKCm"
      },
      "execution_count": 10,
      "outputs": []
    },
    {
      "cell_type": "code",
      "source": [
        "if False:\n",
        "    model = EEGTransformerRegressor()\n",
        "    device = torch.device(\"cuda\" if torch.cuda.is_available() else \"cpu\")\n",
        "\n",
        "    DATA_DIR = \"/content/drive/MyDrive/data\"\n",
        "    FILES = [\n",
        "        \"Direction_task_with_dots_synchronised_max.npz\",\n",
        "        \"Direction_task_with_dots_synchronised_min.npz\",\n",
        "        \"Direction_task_with_processing_speed_synchronised_max.npz\",\n",
        "        \"Direction_task_with_processing_speed_synchronised_min.npz\",\n",
        "        #\"Position_task_with_dots_synchronised_max.npz\",\n",
        "        #\"Position_task_with_dots_synchronised_min.npz\"\n",
        "    ]\n",
        "    file_paths = [os.path.join(DATA_DIR, f) for f in FILES]\n",
        "\n",
        "    bad_samples = find_nan_outputs(model, file_paths, device)\n",
        "    print(f\"Found {len(bad_samples)} samples with NaN outputs.\")"
      ],
      "metadata": {
        "id": "FmCQ0aFTSLFh"
      },
      "execution_count": 11,
      "outputs": []
    },
    {
      "cell_type": "code",
      "source": [
        "def train_model(model, train_loader, val_loader, criterion, optimizer, scheduler, num_epochs, device, save_dir, patience=5):\n",
        "    scaler = torch.amp.GradScaler('cuda')\n",
        "    best_rmse = float('inf')\n",
        "    train_losses = []\n",
        "    val_losses = []\n",
        "    val_rmses = []\n",
        "    patience_counter = 0\n",
        "\n",
        "    for epoch in range(num_epochs):\n",
        "        model.train()\n",
        "        running_loss = 0.0\n",
        "\n",
        "        for inputs, targets in tqdm(train_loader, desc=f\"Epoch {epoch+1}\"):\n",
        "            inputs, targets = inputs.to(device), targets.to(device)\n",
        "            optimizer.zero_grad()\n",
        "\n",
        "            with torch.amp.autocast('cuda'):\n",
        "                outputs = model(inputs)\n",
        "                loss = criterion(outputs, targets)\n",
        "\n",
        "            if not torch.isfinite(loss).all():\n",
        "                print(\"⚠️ Skipping batch with non-finite loss\")\n",
        "                continue\n",
        "\n",
        "            scaler.scale(loss).backward()\n",
        "            torch.nn.utils.clip_grad_norm_(model.parameters(), max_norm=1.0)\n",
        "            scaler.step(optimizer)\n",
        "            scaler.update()\n",
        "\n",
        "            running_loss += loss.item() * inputs.size(0)\n",
        "\n",
        "        avg_train_loss = running_loss / len(train_loader.dataset)\n",
        "        train_losses.append(avg_train_loss)\n",
        "\n",
        "        model.eval()\n",
        "        preds, gts = [], []\n",
        "        with torch.no_grad():\n",
        "            for inputs, targets in val_loader:\n",
        "                inputs, targets = inputs.to(device), targets.to(device)\n",
        "                outputs = model(inputs)\n",
        "                preds.append(outputs.cpu().numpy())\n",
        "                gts.append(targets.cpu().numpy())\n",
        "\n",
        "        preds = np.concatenate(preds)\n",
        "        gts = np.concatenate(gts)\n",
        "        loss = mean_squared_error(gts, preds)\n",
        "        rmse = np.sqrt(loss)\n",
        "        val_losses.append(loss)\n",
        "        val_rmses.append(rmse)\n",
        "\n",
        "        scheduler.step()\n",
        "\n",
        "        print(f\"Epoch {epoch+1} | Train Loss: {avg_train_loss:.4f} | Val RMSE: {rmse:.4f}\")\n",
        "\n",
        "        if rmse < best_rmse:\n",
        "            best_rmse = rmse\n",
        "            patience_counter = 0\n",
        "            torch.save(model.state_dict(), os.path.join(save_dir, \"best_model.pt\"))\n",
        "            print(\"✅ Saved new best model.\")\n",
        "        else:\n",
        "            patience_counter += 1\n",
        "            print(f\"⏳ No improvement. Patience: {patience_counter}/{patience}\")\n",
        "            if patience_counter >= patience:\n",
        "                print(\"🛑 Early stopping triggered.\")\n",
        "                break\n",
        "\n",
        "    # Save loss plots\n",
        "    plt.figure()\n",
        "    plt.plot(train_losses, label='Train Loss')\n",
        "    plt.plot(val_losses, label='Validation Loss')\n",
        "    plt.xlabel('Epoch')\n",
        "    plt.ylabel('Loss / RMSE')\n",
        "    plt.legend()\n",
        "    plt.title('Training and Validation Loss')\n",
        "    plt.savefig(os.path.join(save_dir, 'loss_plot.png'))\n",
        "    plt.close()"
      ],
      "metadata": {
        "id": "QrsBX1E382KO"
      },
      "execution_count": 12,
      "outputs": []
    },
    {
      "cell_type": "code",
      "source": [
        "DATA_DIR = \"/content/drive/MyDrive/data\"\n",
        "FILES = [\n",
        "    \"Direction_task_with_dots_synchronised_max.npz\",\n",
        "    \"Direction_task_with_dots_synchronised_min.npz\",\n",
        "    \"Direction_task_with_processing_speed_synchronised_max.npz\",\n",
        "    \"Direction_task_with_processing_speed_synchronised_min.npz\",\n",
        "    #\"Position_task_with_dots_synchronised_max.npz\",\n",
        "    #\"Position_task_with_dots_synchronised_min.npz\"\n",
        "]\n",
        "file_paths = [os.path.join(DATA_DIR, f) for f in FILES]\n",
        "\n",
        "dataset = EEGNPZDataset(file_paths)\n",
        "train_size = int(0.8 * len(dataset))\n",
        "val_size = len(dataset) - train_size\n",
        "train_dataset, val_dataset = torch.utils.data.random_split(dataset, [train_size, val_size])\n",
        "\n",
        "train_loader = DataLoader(train_dataset, batch_size=128, shuffle=True, num_workers=8, pin_memory=True, persistent_workers=True)\n",
        "val_loader = DataLoader(val_dataset, batch_size=64, shuffle=False, num_workers=8, pin_memory=True, persistent_workers=True)"
      ],
      "metadata": {
        "id": "3TTs0dUN9MGW"
      },
      "execution_count": 13,
      "outputs": []
    },
    {
      "cell_type": "code",
      "execution_count": 14,
      "metadata": {
        "id": "W14gFtdp3_IV",
        "colab": {
          "base_uri": "https://localhost:8080/"
        },
        "outputId": "2a7dbeae-94f0-4179-b2a2-f3a225421945"
      },
      "outputs": [
        {
          "output_type": "stream",
          "name": "stderr",
          "text": [
            "Epoch 1: 100%|██████████| 463/463 [02:26<00:00,  3.15it/s]\n"
          ]
        },
        {
          "output_type": "stream",
          "name": "stdout",
          "text": [
            "Epoch 1 | Train Loss: 41077.4176 | Val RMSE: 201.9904\n",
            "✅ Saved new best model.\n"
          ]
        },
        {
          "output_type": "stream",
          "name": "stderr",
          "text": [
            "Epoch 2: 100%|██████████| 463/463 [02:23<00:00,  3.23it/s]\n"
          ]
        },
        {
          "output_type": "stream",
          "name": "stdout",
          "text": [
            "Epoch 2 | Train Loss: 38701.6215 | Val RMSE: 194.6881\n",
            "✅ Saved new best model.\n"
          ]
        },
        {
          "output_type": "stream",
          "name": "stderr",
          "text": [
            "Epoch 3: 100%|██████████| 463/463 [02:23<00:00,  3.23it/s]\n"
          ]
        },
        {
          "output_type": "stream",
          "name": "stdout",
          "text": [
            "Epoch 3 | Train Loss: 35841.3452 | Val RMSE: 188.2616\n",
            "✅ Saved new best model.\n"
          ]
        },
        {
          "output_type": "stream",
          "name": "stderr",
          "text": [
            "Epoch 4: 100%|██████████| 463/463 [02:23<00:00,  3.24it/s]\n"
          ]
        },
        {
          "output_type": "stream",
          "name": "stdout",
          "text": [
            "Epoch 4 | Train Loss: 34018.8597 | Val RMSE: 184.8852\n",
            "✅ Saved new best model.\n"
          ]
        },
        {
          "output_type": "stream",
          "name": "stderr",
          "text": [
            "Epoch 5: 100%|██████████| 463/463 [02:23<00:00,  3.23it/s]\n"
          ]
        },
        {
          "output_type": "stream",
          "name": "stdout",
          "text": [
            "Epoch 5 | Train Loss: 33132.9244 | Val RMSE: 183.4531\n",
            "✅ Saved new best model.\n"
          ]
        },
        {
          "output_type": "stream",
          "name": "stderr",
          "text": [
            "Epoch 6: 100%|██████████| 463/463 [02:23<00:00,  3.23it/s]\n"
          ]
        },
        {
          "output_type": "stream",
          "name": "stdout",
          "text": [
            "Epoch 6 | Train Loss: 30514.0044 | Val RMSE: 170.0644\n",
            "✅ Saved new best model.\n"
          ]
        },
        {
          "output_type": "stream",
          "name": "stderr",
          "text": [
            "Epoch 7: 100%|██████████| 463/463 [02:23<00:00,  3.23it/s]\n"
          ]
        },
        {
          "output_type": "stream",
          "name": "stdout",
          "text": [
            "Epoch 7 | Train Loss: 26262.5574 | Val RMSE: 158.1256\n",
            "✅ Saved new best model.\n"
          ]
        },
        {
          "output_type": "stream",
          "name": "stderr",
          "text": [
            "Epoch 8: 100%|██████████| 463/463 [02:23<00:00,  3.23it/s]\n"
          ]
        },
        {
          "output_type": "stream",
          "name": "stdout",
          "text": [
            "Epoch 8 | Train Loss: 23060.5480 | Val RMSE: 149.6621\n",
            "✅ Saved new best model.\n"
          ]
        },
        {
          "output_type": "stream",
          "name": "stderr",
          "text": [
            "Epoch 9: 100%|██████████| 463/463 [02:23<00:00,  3.23it/s]\n"
          ]
        },
        {
          "output_type": "stream",
          "name": "stdout",
          "text": [
            "Epoch 9 | Train Loss: 21179.2954 | Val RMSE: 145.3572\n",
            "✅ Saved new best model.\n"
          ]
        },
        {
          "output_type": "stream",
          "name": "stderr",
          "text": [
            "Epoch 10: 100%|██████████| 463/463 [02:23<00:00,  3.23it/s]\n"
          ]
        },
        {
          "output_type": "stream",
          "name": "stdout",
          "text": [
            "Epoch 10 | Train Loss: 20397.2841 | Val RMSE: 144.1925\n",
            "✅ Saved new best model.\n"
          ]
        },
        {
          "output_type": "stream",
          "name": "stderr",
          "text": [
            "Epoch 11: 100%|██████████| 463/463 [02:23<00:00,  3.23it/s]\n"
          ]
        },
        {
          "output_type": "stream",
          "name": "stdout",
          "text": [
            "Epoch 11 | Train Loss: 17801.9668 | Val RMSE: 128.0697\n",
            "✅ Saved new best model.\n"
          ]
        },
        {
          "output_type": "stream",
          "name": "stderr",
          "text": [
            "Epoch 12: 100%|██████████| 463/463 [02:23<00:00,  3.23it/s]\n"
          ]
        },
        {
          "output_type": "stream",
          "name": "stdout",
          "text": [
            "Epoch 12 | Train Loss: 15381.5964 | Val RMSE: 124.1852\n",
            "✅ Saved new best model.\n"
          ]
        },
        {
          "output_type": "stream",
          "name": "stderr",
          "text": [
            "Epoch 13: 100%|██████████| 463/463 [02:23<00:00,  3.23it/s]\n"
          ]
        },
        {
          "output_type": "stream",
          "name": "stdout",
          "text": [
            "Epoch 13 | Train Loss: 14234.1746 | Val RMSE: 117.8039\n",
            "✅ Saved new best model.\n"
          ]
        },
        {
          "output_type": "stream",
          "name": "stderr",
          "text": [
            "Epoch 14: 100%|██████████| 463/463 [02:23<00:00,  3.23it/s]\n"
          ]
        },
        {
          "output_type": "stream",
          "name": "stdout",
          "text": [
            "Epoch 14 | Train Loss: 13347.7954 | Val RMSE: 115.8416\n",
            "✅ Saved new best model.\n"
          ]
        },
        {
          "output_type": "stream",
          "name": "stderr",
          "text": [
            "Epoch 15: 100%|██████████| 463/463 [02:23<00:00,  3.23it/s]\n"
          ]
        },
        {
          "output_type": "stream",
          "name": "stdout",
          "text": [
            "Epoch 15 | Train Loss: 12965.5546 | Val RMSE: 114.9442\n",
            "✅ Saved new best model.\n"
          ]
        },
        {
          "output_type": "stream",
          "name": "stderr",
          "text": [
            "Epoch 16: 100%|██████████| 463/463 [02:23<00:00,  3.23it/s]\n"
          ]
        },
        {
          "output_type": "stream",
          "name": "stdout",
          "text": [
            "Epoch 16 | Train Loss: 12345.9496 | Val RMSE: 109.5250\n",
            "✅ Saved new best model.\n"
          ]
        },
        {
          "output_type": "stream",
          "name": "stderr",
          "text": [
            "Epoch 17: 100%|██████████| 463/463 [02:23<00:00,  3.23it/s]\n"
          ]
        },
        {
          "output_type": "stream",
          "name": "stdout",
          "text": [
            "Epoch 17 | Train Loss: 11065.4298 | Val RMSE: 102.9630\n",
            "✅ Saved new best model.\n"
          ]
        },
        {
          "output_type": "stream",
          "name": "stderr",
          "text": [
            "Epoch 18: 100%|██████████| 463/463 [02:23<00:00,  3.23it/s]\n"
          ]
        },
        {
          "output_type": "stream",
          "name": "stdout",
          "text": [
            "Epoch 18 | Train Loss: 10064.2066 | Val RMSE: 100.6250\n",
            "✅ Saved new best model.\n"
          ]
        },
        {
          "output_type": "stream",
          "name": "stderr",
          "text": [
            "Epoch 19: 100%|██████████| 463/463 [02:23<00:00,  3.23it/s]\n"
          ]
        },
        {
          "output_type": "stream",
          "name": "stdout",
          "text": [
            "Epoch 19 | Train Loss: 9596.2763 | Val RMSE: 98.7735\n",
            "✅ Saved new best model.\n"
          ]
        },
        {
          "output_type": "stream",
          "name": "stderr",
          "text": [
            "Epoch 20: 100%|██████████| 463/463 [02:23<00:00,  3.23it/s]\n"
          ]
        },
        {
          "output_type": "stream",
          "name": "stdout",
          "text": [
            "Epoch 20 | Train Loss: 9369.5151 | Val RMSE: 97.7368\n",
            "✅ Saved new best model.\n"
          ]
        },
        {
          "output_type": "stream",
          "name": "stderr",
          "text": [
            "Epoch 21: 100%|██████████| 463/463 [02:23<00:00,  3.23it/s]\n"
          ]
        },
        {
          "output_type": "stream",
          "name": "stdout",
          "text": [
            "Epoch 21 | Train Loss: 9174.6915 | Val RMSE: 96.7473\n",
            "✅ Saved new best model.\n"
          ]
        },
        {
          "output_type": "stream",
          "name": "stderr",
          "text": [
            "Epoch 22: 100%|██████████| 463/463 [02:23<00:00,  3.23it/s]\n"
          ]
        },
        {
          "output_type": "stream",
          "name": "stdout",
          "text": [
            "Epoch 22 | Train Loss: 8815.7246 | Val RMSE: 94.1102\n",
            "✅ Saved new best model.\n"
          ]
        },
        {
          "output_type": "stream",
          "name": "stderr",
          "text": [
            "Epoch 23: 100%|██████████| 463/463 [02:23<00:00,  3.23it/s]\n"
          ]
        },
        {
          "output_type": "stream",
          "name": "stdout",
          "text": [
            "Epoch 23 | Train Loss: 8531.2042 | Val RMSE: 92.5668\n",
            "✅ Saved new best model.\n"
          ]
        },
        {
          "output_type": "stream",
          "name": "stderr",
          "text": [
            "Epoch 24: 100%|██████████| 463/463 [02:23<00:00,  3.23it/s]\n"
          ]
        },
        {
          "output_type": "stream",
          "name": "stdout",
          "text": [
            "Epoch 24 | Train Loss: 8162.8414 | Val RMSE: 91.7181\n",
            "✅ Saved new best model.\n"
          ]
        },
        {
          "output_type": "stream",
          "name": "stderr",
          "text": [
            "Epoch 25: 100%|██████████| 463/463 [02:23<00:00,  3.23it/s]\n"
          ]
        },
        {
          "output_type": "stream",
          "name": "stdout",
          "text": [
            "Epoch 25 | Train Loss: 7985.1025 | Val RMSE: 90.8040\n",
            "✅ Saved new best model.\n"
          ]
        },
        {
          "output_type": "stream",
          "name": "stderr",
          "text": [
            "Epoch 26: 100%|██████████| 463/463 [02:23<00:00,  3.23it/s]\n"
          ]
        },
        {
          "output_type": "stream",
          "name": "stdout",
          "text": [
            "Epoch 26 | Train Loss: 7976.6332 | Val RMSE: 91.9957\n",
            "⏳ No improvement. Patience: 1/5\n"
          ]
        },
        {
          "output_type": "stream",
          "name": "stderr",
          "text": [
            "Epoch 27: 100%|██████████| 463/463 [02:23<00:00,  3.23it/s]\n"
          ]
        },
        {
          "output_type": "stream",
          "name": "stdout",
          "text": [
            "Epoch 27 | Train Loss: 7531.1293 | Val RMSE: 88.4958\n",
            "✅ Saved new best model.\n"
          ]
        },
        {
          "output_type": "stream",
          "name": "stderr",
          "text": [
            "Epoch 28: 100%|██████████| 463/463 [02:23<00:00,  3.23it/s]\n"
          ]
        },
        {
          "output_type": "stream",
          "name": "stdout",
          "text": [
            "Epoch 28 | Train Loss: 7222.4512 | Val RMSE: 85.5642\n",
            "✅ Saved new best model.\n"
          ]
        },
        {
          "output_type": "stream",
          "name": "stderr",
          "text": [
            "Epoch 29: 100%|██████████| 463/463 [02:23<00:00,  3.23it/s]\n"
          ]
        },
        {
          "output_type": "stream",
          "name": "stdout",
          "text": [
            "Epoch 29 | Train Loss: 6982.7049 | Val RMSE: 84.3350\n",
            "✅ Saved new best model.\n"
          ]
        },
        {
          "output_type": "stream",
          "name": "stderr",
          "text": [
            "Epoch 30: 100%|██████████| 463/463 [02:23<00:00,  3.23it/s]\n"
          ]
        },
        {
          "output_type": "stream",
          "name": "stdout",
          "text": [
            "Epoch 30 | Train Loss: 6866.5602 | Val RMSE: 84.4618\n",
            "⏳ No improvement. Patience: 1/5\n"
          ]
        },
        {
          "output_type": "stream",
          "name": "stderr",
          "text": [
            "Epoch 31: 100%|██████████| 463/463 [02:23<00:00,  3.23it/s]\n"
          ]
        },
        {
          "output_type": "stream",
          "name": "stdout",
          "text": [
            "Epoch 31 | Train Loss: 6943.7569 | Val RMSE: 85.2967\n",
            "⏳ No improvement. Patience: 2/5\n"
          ]
        },
        {
          "output_type": "stream",
          "name": "stderr",
          "text": [
            "Epoch 32: 100%|██████████| 463/463 [02:23<00:00,  3.23it/s]\n"
          ]
        },
        {
          "output_type": "stream",
          "name": "stdout",
          "text": [
            "Epoch 32 | Train Loss: 6911.1309 | Val RMSE: 83.7348\n",
            "✅ Saved new best model.\n"
          ]
        },
        {
          "output_type": "stream",
          "name": "stderr",
          "text": [
            "Epoch 33: 100%|██████████| 463/463 [02:23<00:00,  3.23it/s]\n"
          ]
        },
        {
          "output_type": "stream",
          "name": "stdout",
          "text": [
            "Epoch 33 | Train Loss: 6744.5495 | Val RMSE: 83.3630\n",
            "✅ Saved new best model.\n"
          ]
        },
        {
          "output_type": "stream",
          "name": "stderr",
          "text": [
            "Epoch 34: 100%|██████████| 463/463 [02:23<00:00,  3.23it/s]\n"
          ]
        },
        {
          "output_type": "stream",
          "name": "stdout",
          "text": [
            "Epoch 34 | Train Loss: 6510.0993 | Val RMSE: 82.4704\n",
            "✅ Saved new best model.\n"
          ]
        },
        {
          "output_type": "stream",
          "name": "stderr",
          "text": [
            "Epoch 35: 100%|██████████| 463/463 [02:23<00:00,  3.23it/s]\n"
          ]
        },
        {
          "output_type": "stream",
          "name": "stdout",
          "text": [
            "Epoch 35 | Train Loss: 6381.0925 | Val RMSE: 81.5048\n",
            "✅ Saved new best model.\n"
          ]
        },
        {
          "output_type": "stream",
          "name": "stderr",
          "text": [
            "Epoch 36: 100%|██████████| 463/463 [02:23<00:00,  3.23it/s]\n"
          ]
        },
        {
          "output_type": "stream",
          "name": "stdout",
          "text": [
            "Epoch 36 | Train Loss: 6515.6096 | Val RMSE: 81.8840\n",
            "⏳ No improvement. Patience: 1/5\n"
          ]
        },
        {
          "output_type": "stream",
          "name": "stderr",
          "text": [
            "Epoch 37: 100%|██████████| 463/463 [02:23<00:00,  3.23it/s]\n"
          ]
        },
        {
          "output_type": "stream",
          "name": "stdout",
          "text": [
            "Epoch 37 | Train Loss: 6340.3890 | Val RMSE: 81.1025\n",
            "✅ Saved new best model.\n"
          ]
        },
        {
          "output_type": "stream",
          "name": "stderr",
          "text": [
            "Epoch 38: 100%|██████████| 463/463 [02:23<00:00,  3.23it/s]\n"
          ]
        },
        {
          "output_type": "stream",
          "name": "stdout",
          "text": [
            "Epoch 38 | Train Loss: 6235.1543 | Val RMSE: 81.8939\n",
            "⏳ No improvement. Patience: 1/5\n"
          ]
        },
        {
          "output_type": "stream",
          "name": "stderr",
          "text": [
            "Epoch 39: 100%|██████████| 463/463 [02:23<00:00,  3.23it/s]\n"
          ]
        },
        {
          "output_type": "stream",
          "name": "stdout",
          "text": [
            "Epoch 39 | Train Loss: 6143.0103 | Val RMSE: 80.5492\n",
            "✅ Saved new best model.\n"
          ]
        },
        {
          "output_type": "stream",
          "name": "stderr",
          "text": [
            "Epoch 40: 100%|██████████| 463/463 [02:23<00:00,  3.23it/s]\n"
          ]
        },
        {
          "output_type": "stream",
          "name": "stdout",
          "text": [
            "Epoch 40 | Train Loss: 6063.8951 | Val RMSE: 80.0509\n",
            "✅ Saved new best model.\n"
          ]
        },
        {
          "output_type": "stream",
          "name": "stderr",
          "text": [
            "Epoch 41: 100%|██████████| 463/463 [02:23<00:00,  3.23it/s]\n"
          ]
        },
        {
          "output_type": "stream",
          "name": "stdout",
          "text": [
            "Epoch 41 | Train Loss: 6189.5229 | Val RMSE: 80.3456\n",
            "⏳ No improvement. Patience: 1/5\n"
          ]
        },
        {
          "output_type": "stream",
          "name": "stderr",
          "text": [
            "Epoch 42: 100%|██████████| 463/463 [02:23<00:00,  3.23it/s]\n"
          ]
        },
        {
          "output_type": "stream",
          "name": "stdout",
          "text": [
            "Epoch 42 | Train Loss: 6085.9233 | Val RMSE: 79.9822\n",
            "✅ Saved new best model.\n"
          ]
        },
        {
          "output_type": "stream",
          "name": "stderr",
          "text": [
            "Epoch 43: 100%|██████████| 463/463 [02:23<00:00,  3.23it/s]\n"
          ]
        },
        {
          "output_type": "stream",
          "name": "stdout",
          "text": [
            "Epoch 43 | Train Loss: 6006.2296 | Val RMSE: 79.6073\n",
            "✅ Saved new best model.\n"
          ]
        },
        {
          "output_type": "stream",
          "name": "stderr",
          "text": [
            "Epoch 44: 100%|██████████| 463/463 [02:23<00:00,  3.23it/s]\n"
          ]
        },
        {
          "output_type": "stream",
          "name": "stdout",
          "text": [
            "Epoch 44 | Train Loss: 5933.7012 | Val RMSE: 80.6642\n",
            "⏳ No improvement. Patience: 1/5\n"
          ]
        },
        {
          "output_type": "stream",
          "name": "stderr",
          "text": [
            "Epoch 45: 100%|██████████| 463/463 [02:23<00:00,  3.23it/s]\n"
          ]
        },
        {
          "output_type": "stream",
          "name": "stdout",
          "text": [
            "Epoch 45 | Train Loss: 5897.8017 | Val RMSE: 79.0907\n",
            "✅ Saved new best model.\n"
          ]
        },
        {
          "output_type": "stream",
          "name": "stderr",
          "text": [
            "Epoch 46: 100%|██████████| 463/463 [02:23<00:00,  3.23it/s]\n"
          ]
        },
        {
          "output_type": "stream",
          "name": "stdout",
          "text": [
            "Epoch 46 | Train Loss: 6022.3984 | Val RMSE: 79.4242\n",
            "⏳ No improvement. Patience: 1/5\n"
          ]
        },
        {
          "output_type": "stream",
          "name": "stderr",
          "text": [
            "Epoch 47: 100%|██████████| 463/463 [02:23<00:00,  3.23it/s]\n"
          ]
        },
        {
          "output_type": "stream",
          "name": "stdout",
          "text": [
            "Epoch 47 | Train Loss: 5991.2548 | Val RMSE: 79.5973\n",
            "⏳ No improvement. Patience: 2/5\n"
          ]
        },
        {
          "output_type": "stream",
          "name": "stderr",
          "text": [
            "Epoch 48: 100%|██████████| 463/463 [02:23<00:00,  3.23it/s]\n"
          ]
        },
        {
          "output_type": "stream",
          "name": "stdout",
          "text": [
            "Epoch 48 | Train Loss: 5880.8419 | Val RMSE: 79.5035\n",
            "⏳ No improvement. Patience: 3/5\n"
          ]
        },
        {
          "output_type": "stream",
          "name": "stderr",
          "text": [
            "Epoch 49: 100%|██████████| 463/463 [02:23<00:00,  3.23it/s]\n"
          ]
        },
        {
          "output_type": "stream",
          "name": "stdout",
          "text": [
            "Epoch 49 | Train Loss: 5760.7720 | Val RMSE: 78.4660\n",
            "✅ Saved new best model.\n"
          ]
        },
        {
          "output_type": "stream",
          "name": "stderr",
          "text": [
            "Epoch 50: 100%|██████████| 463/463 [02:23<00:00,  3.23it/s]\n"
          ]
        },
        {
          "output_type": "stream",
          "name": "stdout",
          "text": [
            "Epoch 50 | Train Loss: 5664.3681 | Val RMSE: 78.3306\n",
            "✅ Saved new best model.\n"
          ]
        },
        {
          "output_type": "stream",
          "name": "stderr",
          "text": [
            "Epoch 51: 100%|██████████| 463/463 [02:23<00:00,  3.23it/s]\n"
          ]
        },
        {
          "output_type": "stream",
          "name": "stdout",
          "text": [
            "Epoch 51 | Train Loss: 5790.2429 | Val RMSE: 78.1657\n",
            "✅ Saved new best model.\n"
          ]
        },
        {
          "output_type": "stream",
          "name": "stderr",
          "text": [
            "Epoch 52: 100%|██████████| 463/463 [02:23<00:00,  3.23it/s]\n"
          ]
        },
        {
          "output_type": "stream",
          "name": "stdout",
          "text": [
            "Epoch 52 | Train Loss: 5743.0763 | Val RMSE: 80.1909\n",
            "⏳ No improvement. Patience: 1/5\n"
          ]
        },
        {
          "output_type": "stream",
          "name": "stderr",
          "text": [
            "Epoch 53: 100%|██████████| 463/463 [02:23<00:00,  3.23it/s]\n"
          ]
        },
        {
          "output_type": "stream",
          "name": "stdout",
          "text": [
            "Epoch 53 | Train Loss: 5801.7065 | Val RMSE: 78.4873\n",
            "⏳ No improvement. Patience: 2/5\n"
          ]
        },
        {
          "output_type": "stream",
          "name": "stderr",
          "text": [
            "Epoch 54: 100%|██████████| 463/463 [02:23<00:00,  3.23it/s]\n"
          ]
        },
        {
          "output_type": "stream",
          "name": "stdout",
          "text": [
            "Epoch 54 | Train Loss: 5612.4501 | Val RMSE: 78.1621\n",
            "✅ Saved new best model.\n"
          ]
        },
        {
          "output_type": "stream",
          "name": "stderr",
          "text": [
            "Epoch 55: 100%|██████████| 463/463 [02:23<00:00,  3.23it/s]\n"
          ]
        },
        {
          "output_type": "stream",
          "name": "stdout",
          "text": [
            "Epoch 55 | Train Loss: 5487.9302 | Val RMSE: 77.5245\n",
            "✅ Saved new best model.\n"
          ]
        },
        {
          "output_type": "stream",
          "name": "stderr",
          "text": [
            "Epoch 56: 100%|██████████| 463/463 [02:23<00:00,  3.23it/s]\n"
          ]
        },
        {
          "output_type": "stream",
          "name": "stdout",
          "text": [
            "Epoch 56 | Train Loss: 5848.7190 | Val RMSE: 79.7586\n",
            "⏳ No improvement. Patience: 1/5\n"
          ]
        },
        {
          "output_type": "stream",
          "name": "stderr",
          "text": [
            "Epoch 57: 100%|██████████| 463/463 [02:23<00:00,  3.23it/s]\n"
          ]
        },
        {
          "output_type": "stream",
          "name": "stdout",
          "text": [
            "Epoch 57 | Train Loss: 5647.4258 | Val RMSE: 78.5059\n",
            "⏳ No improvement. Patience: 2/5\n"
          ]
        },
        {
          "output_type": "stream",
          "name": "stderr",
          "text": [
            "Epoch 58: 100%|██████████| 463/463 [02:23<00:00,  3.23it/s]\n"
          ]
        },
        {
          "output_type": "stream",
          "name": "stdout",
          "text": [
            "Epoch 58 | Train Loss: 5518.8305 | Val RMSE: 77.0945\n",
            "✅ Saved new best model.\n"
          ]
        },
        {
          "output_type": "stream",
          "name": "stderr",
          "text": [
            "Epoch 59: 100%|██████████| 463/463 [02:23<00:00,  3.23it/s]\n"
          ]
        },
        {
          "output_type": "stream",
          "name": "stdout",
          "text": [
            "Epoch 59 | Train Loss: 5362.2207 | Val RMSE: 77.1154\n",
            "⏳ No improvement. Patience: 1/5\n"
          ]
        },
        {
          "output_type": "stream",
          "name": "stderr",
          "text": [
            "Epoch 60: 100%|██████████| 463/463 [02:23<00:00,  3.23it/s]\n"
          ]
        },
        {
          "output_type": "stream",
          "name": "stdout",
          "text": [
            "Epoch 60 | Train Loss: 5255.6586 | Val RMSE: 76.6190\n",
            "✅ Saved new best model.\n"
          ]
        },
        {
          "output_type": "stream",
          "name": "stderr",
          "text": [
            "Epoch 61: 100%|██████████| 463/463 [02:23<00:00,  3.23it/s]\n"
          ]
        },
        {
          "output_type": "stream",
          "name": "stdout",
          "text": [
            "Epoch 61 | Train Loss: 5371.1421 | Val RMSE: 76.8488\n",
            "⏳ No improvement. Patience: 1/5\n"
          ]
        },
        {
          "output_type": "stream",
          "name": "stderr",
          "text": [
            "Epoch 62: 100%|██████████| 463/463 [02:23<00:00,  3.23it/s]\n"
          ]
        },
        {
          "output_type": "stream",
          "name": "stdout",
          "text": [
            "Epoch 62 | Train Loss: 5353.4077 | Val RMSE: 76.7633\n",
            "⏳ No improvement. Patience: 2/5\n"
          ]
        },
        {
          "output_type": "stream",
          "name": "stderr",
          "text": [
            "Epoch 63: 100%|██████████| 463/463 [02:23<00:00,  3.23it/s]\n"
          ]
        },
        {
          "output_type": "stream",
          "name": "stdout",
          "text": [
            "Epoch 63 | Train Loss: 5261.6486 | Val RMSE: 76.8637\n",
            "⏳ No improvement. Patience: 3/5\n"
          ]
        },
        {
          "output_type": "stream",
          "name": "stderr",
          "text": [
            "Epoch 64: 100%|██████████| 463/463 [02:23<00:00,  3.23it/s]\n"
          ]
        },
        {
          "output_type": "stream",
          "name": "stdout",
          "text": [
            "Epoch 64 | Train Loss: 5181.3091 | Val RMSE: 76.7735\n",
            "⏳ No improvement. Patience: 4/5\n"
          ]
        },
        {
          "output_type": "stream",
          "name": "stderr",
          "text": [
            "Epoch 65: 100%|██████████| 463/463 [02:23<00:00,  3.23it/s]\n"
          ]
        },
        {
          "output_type": "stream",
          "name": "stdout",
          "text": [
            "Epoch 65 | Train Loss: 5098.3012 | Val RMSE: 76.2032\n",
            "✅ Saved new best model.\n"
          ]
        },
        {
          "output_type": "stream",
          "name": "stderr",
          "text": [
            "Epoch 66: 100%|██████████| 463/463 [02:23<00:00,  3.23it/s]\n"
          ]
        },
        {
          "output_type": "stream",
          "name": "stdout",
          "text": [
            "Epoch 66 | Train Loss: 5355.2782 | Val RMSE: 76.8710\n",
            "⏳ No improvement. Patience: 1/5\n"
          ]
        },
        {
          "output_type": "stream",
          "name": "stderr",
          "text": [
            "Epoch 67: 100%|██████████| 463/463 [02:23<00:00,  3.23it/s]\n"
          ]
        },
        {
          "output_type": "stream",
          "name": "stdout",
          "text": [
            "Epoch 67 | Train Loss: 5306.9475 | Val RMSE: 77.4055\n",
            "⏳ No improvement. Patience: 2/5\n"
          ]
        },
        {
          "output_type": "stream",
          "name": "stderr",
          "text": [
            "Epoch 68: 100%|██████████| 463/463 [02:23<00:00,  3.23it/s]\n"
          ]
        },
        {
          "output_type": "stream",
          "name": "stdout",
          "text": [
            "Epoch 68 | Train Loss: 5182.0668 | Val RMSE: 76.1042\n",
            "✅ Saved new best model.\n"
          ]
        },
        {
          "output_type": "stream",
          "name": "stderr",
          "text": [
            "Epoch 69: 100%|██████████| 463/463 [02:23<00:00,  3.23it/s]\n"
          ]
        },
        {
          "output_type": "stream",
          "name": "stdout",
          "text": [
            "Epoch 69 | Train Loss: 5108.4597 | Val RMSE: 75.8990\n",
            "✅ Saved new best model.\n"
          ]
        },
        {
          "output_type": "stream",
          "name": "stderr",
          "text": [
            "Epoch 70: 100%|██████████| 463/463 [02:23<00:00,  3.23it/s]\n"
          ]
        },
        {
          "output_type": "stream",
          "name": "stdout",
          "text": [
            "Epoch 70 | Train Loss: 4962.6669 | Val RMSE: 75.6188\n",
            "✅ Saved new best model.\n"
          ]
        },
        {
          "output_type": "stream",
          "name": "stderr",
          "text": [
            "Epoch 71: 100%|██████████| 463/463 [02:23<00:00,  3.23it/s]\n"
          ]
        },
        {
          "output_type": "stream",
          "name": "stdout",
          "text": [
            "Epoch 71 | Train Loss: 5203.6030 | Val RMSE: 75.9906\n",
            "⏳ No improvement. Patience: 1/5\n"
          ]
        },
        {
          "output_type": "stream",
          "name": "stderr",
          "text": [
            "Epoch 72: 100%|██████████| 463/463 [02:23<00:00,  3.23it/s]\n"
          ]
        },
        {
          "output_type": "stream",
          "name": "stdout",
          "text": [
            "Epoch 72 | Train Loss: 5150.7622 | Val RMSE: 76.5439\n",
            "⏳ No improvement. Patience: 2/5\n"
          ]
        },
        {
          "output_type": "stream",
          "name": "stderr",
          "text": [
            "Epoch 73: 100%|██████████| 463/463 [02:23<00:00,  3.23it/s]\n"
          ]
        },
        {
          "output_type": "stream",
          "name": "stdout",
          "text": [
            "Epoch 73 | Train Loss: 4957.2962 | Val RMSE: 75.9421\n",
            "⏳ No improvement. Patience: 3/5\n"
          ]
        },
        {
          "output_type": "stream",
          "name": "stderr",
          "text": [
            "Epoch 74: 100%|██████████| 463/463 [02:23<00:00,  3.23it/s]\n"
          ]
        },
        {
          "output_type": "stream",
          "name": "stdout",
          "text": [
            "Epoch 74 | Train Loss: 4849.4161 | Val RMSE: 75.5212\n",
            "✅ Saved new best model.\n"
          ]
        },
        {
          "output_type": "stream",
          "name": "stderr",
          "text": [
            "Epoch 75: 100%|██████████| 463/463 [02:23<00:00,  3.23it/s]\n"
          ]
        },
        {
          "output_type": "stream",
          "name": "stdout",
          "text": [
            "Epoch 75 | Train Loss: 4778.1840 | Val RMSE: 75.3451\n",
            "✅ Saved new best model.\n"
          ]
        },
        {
          "output_type": "stream",
          "name": "stderr",
          "text": [
            "Epoch 76: 100%|██████████| 463/463 [02:23<00:00,  3.23it/s]\n"
          ]
        },
        {
          "output_type": "stream",
          "name": "stdout",
          "text": [
            "Epoch 76 | Train Loss: 4974.1406 | Val RMSE: 75.1224\n",
            "✅ Saved new best model.\n"
          ]
        },
        {
          "output_type": "stream",
          "name": "stderr",
          "text": [
            "Epoch 77: 100%|██████████| 463/463 [02:23<00:00,  3.23it/s]\n"
          ]
        },
        {
          "output_type": "stream",
          "name": "stdout",
          "text": [
            "Epoch 77 | Train Loss: 4939.9262 | Val RMSE: 75.1458\n",
            "⏳ No improvement. Patience: 1/5\n"
          ]
        },
        {
          "output_type": "stream",
          "name": "stderr",
          "text": [
            "Epoch 78: 100%|██████████| 463/463 [02:23<00:00,  3.23it/s]\n"
          ]
        },
        {
          "output_type": "stream",
          "name": "stdout",
          "text": [
            "Epoch 78 | Train Loss: 4848.7782 | Val RMSE: 75.9352\n",
            "⏳ No improvement. Patience: 2/5\n"
          ]
        },
        {
          "output_type": "stream",
          "name": "stderr",
          "text": [
            "Epoch 79: 100%|██████████| 463/463 [02:23<00:00,  3.23it/s]\n"
          ]
        },
        {
          "output_type": "stream",
          "name": "stdout",
          "text": [
            "Epoch 79 | Train Loss: 4812.7218 | Val RMSE: 75.4728\n",
            "⏳ No improvement. Patience: 3/5\n"
          ]
        },
        {
          "output_type": "stream",
          "name": "stderr",
          "text": [
            "Epoch 80: 100%|██████████| 463/463 [02:23<00:00,  3.23it/s]\n"
          ]
        },
        {
          "output_type": "stream",
          "name": "stdout",
          "text": [
            "Epoch 80 | Train Loss: 4655.6230 | Val RMSE: 74.9873\n",
            "✅ Saved new best model.\n"
          ]
        },
        {
          "output_type": "stream",
          "name": "stderr",
          "text": [
            "Epoch 81: 100%|██████████| 463/463 [02:23<00:00,  3.23it/s]\n"
          ]
        },
        {
          "output_type": "stream",
          "name": "stdout",
          "text": [
            "Epoch 81 | Train Loss: 4924.1580 | Val RMSE: 76.0191\n",
            "⏳ No improvement. Patience: 1/5\n"
          ]
        },
        {
          "output_type": "stream",
          "name": "stderr",
          "text": [
            "Epoch 82: 100%|██████████| 463/463 [02:23<00:00,  3.23it/s]\n"
          ]
        },
        {
          "output_type": "stream",
          "name": "stdout",
          "text": [
            "Epoch 82 | Train Loss: 4830.3766 | Val RMSE: 75.5633\n",
            "⏳ No improvement. Patience: 2/5\n"
          ]
        },
        {
          "output_type": "stream",
          "name": "stderr",
          "text": [
            "Epoch 83: 100%|██████████| 463/463 [02:23<00:00,  3.23it/s]\n"
          ]
        },
        {
          "output_type": "stream",
          "name": "stdout",
          "text": [
            "Epoch 83 | Train Loss: 4656.1772 | Val RMSE: 75.2186\n",
            "⏳ No improvement. Patience: 3/5\n"
          ]
        },
        {
          "output_type": "stream",
          "name": "stderr",
          "text": [
            "Epoch 84: 100%|██████████| 463/463 [02:23<00:00,  3.23it/s]\n"
          ]
        },
        {
          "output_type": "stream",
          "name": "stdout",
          "text": [
            "Epoch 84 | Train Loss: 4553.9356 | Val RMSE: 74.9708\n",
            "✅ Saved new best model.\n"
          ]
        },
        {
          "output_type": "stream",
          "name": "stderr",
          "text": [
            "Epoch 85: 100%|██████████| 463/463 [02:23<00:00,  3.23it/s]\n"
          ]
        },
        {
          "output_type": "stream",
          "name": "stdout",
          "text": [
            "Epoch 85 | Train Loss: 4512.8900 | Val RMSE: 74.8407\n",
            "✅ Saved new best model.\n"
          ]
        },
        {
          "output_type": "stream",
          "name": "stderr",
          "text": [
            "Epoch 86: 100%|██████████| 463/463 [02:23<00:00,  3.23it/s]\n"
          ]
        },
        {
          "output_type": "stream",
          "name": "stdout",
          "text": [
            "Epoch 86 | Train Loss: 4760.9546 | Val RMSE: 77.1510\n",
            "⏳ No improvement. Patience: 1/5\n"
          ]
        },
        {
          "output_type": "stream",
          "name": "stderr",
          "text": [
            "Epoch 87: 100%|██████████| 463/463 [02:23<00:00,  3.23it/s]\n"
          ]
        },
        {
          "output_type": "stream",
          "name": "stdout",
          "text": [
            "Epoch 87 | Train Loss: 4694.8226 | Val RMSE: 75.8390\n",
            "⏳ No improvement. Patience: 2/5\n"
          ]
        },
        {
          "output_type": "stream",
          "name": "stderr",
          "text": [
            "Epoch 88: 100%|██████████| 463/463 [02:23<00:00,  3.23it/s]\n"
          ]
        },
        {
          "output_type": "stream",
          "name": "stdout",
          "text": [
            "Epoch 88 | Train Loss: 4584.2340 | Val RMSE: 75.1481\n",
            "⏳ No improvement. Patience: 3/5\n"
          ]
        },
        {
          "output_type": "stream",
          "name": "stderr",
          "text": [
            "Epoch 89: 100%|██████████| 463/463 [02:23<00:00,  3.23it/s]\n"
          ]
        },
        {
          "output_type": "stream",
          "name": "stdout",
          "text": [
            "Epoch 89 | Train Loss: 4422.0809 | Val RMSE: 74.7468\n",
            "✅ Saved new best model.\n"
          ]
        },
        {
          "output_type": "stream",
          "name": "stderr",
          "text": [
            "Epoch 90: 100%|██████████| 463/463 [02:23<00:00,  3.23it/s]\n"
          ]
        },
        {
          "output_type": "stream",
          "name": "stdout",
          "text": [
            "Epoch 90 | Train Loss: 4332.5860 | Val RMSE: 74.3817\n",
            "✅ Saved new best model.\n"
          ]
        },
        {
          "output_type": "stream",
          "name": "stderr",
          "text": [
            "Epoch 91: 100%|██████████| 463/463 [02:23<00:00,  3.23it/s]\n"
          ]
        },
        {
          "output_type": "stream",
          "name": "stdout",
          "text": [
            "Epoch 91 | Train Loss: 4520.9962 | Val RMSE: 74.4572\n",
            "⏳ No improvement. Patience: 1/5\n"
          ]
        },
        {
          "output_type": "stream",
          "name": "stderr",
          "text": [
            "Epoch 92: 100%|██████████| 463/463 [02:23<00:00,  3.23it/s]\n"
          ]
        },
        {
          "output_type": "stream",
          "name": "stdout",
          "text": [
            "Epoch 92 | Train Loss: 4656.3439 | Val RMSE: 76.1457\n",
            "⏳ No improvement. Patience: 2/5\n"
          ]
        },
        {
          "output_type": "stream",
          "name": "stderr",
          "text": [
            "Epoch 93: 100%|██████████| 463/463 [02:23<00:00,  3.23it/s]\n"
          ]
        },
        {
          "output_type": "stream",
          "name": "stdout",
          "text": [
            "Epoch 93 | Train Loss: 4478.2865 | Val RMSE: 74.8270\n",
            "⏳ No improvement. Patience: 3/5\n"
          ]
        },
        {
          "output_type": "stream",
          "name": "stderr",
          "text": [
            "Epoch 94: 100%|██████████| 463/463 [02:23<00:00,  3.23it/s]\n"
          ]
        },
        {
          "output_type": "stream",
          "name": "stdout",
          "text": [
            "Epoch 94 | Train Loss: 4324.8250 | Val RMSE: 74.4577\n",
            "⏳ No improvement. Patience: 4/5\n"
          ]
        },
        {
          "output_type": "stream",
          "name": "stderr",
          "text": [
            "Epoch 95: 100%|██████████| 463/463 [02:23<00:00,  3.23it/s]\n"
          ]
        },
        {
          "output_type": "stream",
          "name": "stdout",
          "text": [
            "Epoch 95 | Train Loss: 4207.6132 | Val RMSE: 74.6333\n",
            "⏳ No improvement. Patience: 5/5\n",
            "🛑 Early stopping triggered.\n"
          ]
        }
      ],
      "source": [
        "# --- Run Everything ---\n",
        "if __name__ == \"__main__\":\n",
        "    device = torch.device(\"cuda\" if torch.cuda.is_available() else \"cpu\")\n",
        "    model = EEGTransformerRegressor().to(device)\n",
        "\n",
        "    criterion = nn.MSELoss()\n",
        "    optimizer = torch.optim.AdamW(model.parameters(), lr=3e-5, weight_decay=2e-5)\n",
        "    scheduler = torch.optim.lr_scheduler.CosineAnnealingWarmRestarts(optimizer, T_0=5)\n",
        "\n",
        "    # --- Create save directory ---\n",
        "    base_save_dir = \"/content/drive/MyDrive/cnn_transformer\"\n",
        "    os.makedirs(base_save_dir, exist_ok=True)\n",
        "    num_try = 0\n",
        "    for folder in sorted(os.listdir(base_save_dir)):\n",
        "        full_path = os.path.join(base_save_dir, folder)\n",
        "        if os.path.isdir(full_path) and folder.startswith(\"Try\") and any(os.listdir(full_path)):\n",
        "            num_try += 1\n",
        "\n",
        "    save_dir = os.path.join(base_save_dir, f\"Try{num_try + 1}\")\n",
        "    os.makedirs(save_dir, exist_ok=True)\n",
        "\n",
        "    train_model(model, train_loader, val_loader, criterion, optimizer, scheduler, num_epochs=100, device=device, save_dir=save_dir)"
      ]
    }
  ]
}